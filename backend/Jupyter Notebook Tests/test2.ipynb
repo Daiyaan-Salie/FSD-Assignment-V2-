{
 "cells": [
  {
   "cell_type": "code",
   "execution_count": 10,
   "metadata": {},
   "outputs": [
    {
     "data": {
      "text/plain": [
       "(2020, 6, 30)"
      ]
     },
     "execution_count": 10,
     "metadata": {},
     "output_type": "execute_result"
    }
   ],
   "source": [
    "import calendar\n",
    "\n",
    "def monthEndDateValue(date):\n",
    "    # Format = YYYY-MM-DD\n",
    "    year = int(date[0:4])\n",
    "    month = int(date[5:6])\n",
    "    monthEndDate = calendar.monthrange(year, month)[1]\n",
    "    return year, month, monthEndDate\n",
    "\n",
    "monthEndDateValue(\"2020-6-28\")"
   ]
  },
  {
   "cell_type": "code",
   "execution_count": 11,
   "metadata": {},
   "outputs": [
    {
     "data": {
      "text/plain": [
       "'2020-6-30'"
      ]
     },
     "execution_count": 11,
     "metadata": {},
     "output_type": "execute_result"
    }
   ],
   "source": [
    "def endDate(date):\n",
    "    year, month, monthEndDate = monthEndDateValue(date)\n",
    "    endDate = \"-\".join([str(year), str(month), str(monthEndDate)])\n",
    "    return endDate\n",
    "\n",
    "endDate(\"2020-6-28\")"
   ]
  }
 ],
 "metadata": {
  "kernelspec": {
   "display_name": "Python 3.10.7 64-bit",
   "language": "python",
   "name": "python3"
  },
  "language_info": {
   "codemirror_mode": {
    "name": "ipython",
    "version": 3
   },
   "file_extension": ".py",
   "mimetype": "text/x-python",
   "name": "python",
   "nbconvert_exporter": "python",
   "pygments_lexer": "ipython3",
   "version": "3.10.7"
  },
  "orig_nbformat": 4,
  "vscode": {
   "interpreter": {
    "hash": "921a9f4eb1b92f7c45465ac512b7e65f267dfc6f92c15eb890e7adb4e74bdac0"
   }
  }
 },
 "nbformat": 4,
 "nbformat_minor": 2
}
